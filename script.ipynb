{
 "cells": [
  {
   "cell_type": "markdown",
   "metadata": {},
   "source": [
    "## Package Installation"
   ]
  },
  {
   "cell_type": "code",
   "execution_count": 1,
   "metadata": {},
   "outputs": [
    {
     "name": "stdout",
     "output_type": "stream",
     "text": [
      "Warning: 'bioconda' already in 'channels' list, moving to the top\n",
      "Collecting package metadata (current_repodata.json): done\n",
      "Solving environment: done\n",
      "\n",
      "## Package Plan ##\n",
      "\n",
      "  environment location: /Users/SamihaMahin/opt/anaconda3\n",
      "\n",
      "  added / updated specs:\n",
      "    - biopython\n",
      "    - fasttree\n",
      "    - muscle\n",
      "\n",
      "\n",
      "The following packages will be downloaded:\n",
      "\n",
      "    package                    |            build\n",
      "    ---------------------------|-----------------\n",
      "    conda-4.11.0               |   py38hecd8cb5_0        14.4 MB\n",
      "    ------------------------------------------------------------\n",
      "                                           Total:        14.4 MB\n",
      "\n",
      "The following packages will be SUPERSEDED by a higher-priority channel:\n",
      "\n",
      "  conda              conda-forge::conda-4.11.0-py38h50d173~ --> pkgs/main::conda-4.11.0-py38hecd8cb5_0\n",
      "\n",
      "\n",
      "\n",
      "Downloading and Extracting Packages\n",
      "conda-4.11.0         | 14.4 MB   | ##################################### | 100% \n",
      "Preparing transaction: done\n",
      "Verifying transaction: done\n",
      "Executing transaction: done\n",
      "Collecting package metadata (current_repodata.json): done\n",
      "Solving environment: done\n",
      "\n",
      "# All requested packages already installed.\n",
      "\n"
     ]
    }
   ],
   "source": [
    "!conda config --add channels bioconda\n",
    "!conda install -y biopython muscle fasttree\n",
    "!conda install --yes -c bioconda entrez-direct"
   ]
  },
  {
   "cell_type": "markdown",
   "metadata": {},
   "source": [
    "## Data Acquisition"
   ]
  },
  {
   "cell_type": "markdown",
   "metadata": {},
   "source": [
    "**Determining Species of Interest**:\n",
    "used list of model organisms from https://en.wikipedia.org/wiki/List_of_model_organisms and chose three organisms under each subsection/section"
   ]
  },
  {
   "cell_type": "code",
   "execution_count": null,
   "metadata": {},
   "outputs": [
    {
     "name": "stdout",
     "output_type": "stream",
     "text": [
      "curl: (28) Operation timed out after 20000 milliseconds with 0 out of 0 bytes received\n",
      "\u001b[m\u001b[?7h\u001b[4l\u001b>\u001b7\u001b[r\u001b[?1;3;4;6l\u001b8\u001b[31m\u001b[1m\u001b[7m ERROR: \u001b[m\u001b[?7h\u001b[4l\u001b>\u001b7\u001b[r\u001b[?1;3;4;6l\u001b8\u001b[31m\u001b[1m curl command failed ( Thu Dec  9 17:07:35 PST 2021 ) with: 28\u001b[m\u001b[?7h\u001b[4l\u001b>\u001b7\u001b[r\u001b[?1;3;4;6l\u001b8\n",
      "\u001b[34mhttps://eutils.ncbi.nlm.nih.gov/entrez/eutils/efetch.fcgi -d query_key=1&WebEnv=MCID_61b2a85614f2cd7033440349&retstart=0&retmax=1&db=protein&rettype=fasta&retmode=text&tool=edirect&edirect=16.2&edirect_os=Darwin&email=SamihaMahin%40Samihas-MacBook-Air.local\u001b[m\u001b[?7h\u001b[4l\u001b>\u001b7\u001b[r\u001b[?1;3;4;6l\u001b8\n",
      "\u001b[m\u001b[31m\u001b[1m\u001b[7m WARNING: \u001b[m\u001b[31m\u001b[1m FAILURE ( Thu Dec  9 17:07:34 PST 2021 )\u001b[m\n",
      "\u001b[34mnquire -url https://eutils.ncbi.nlm.nih.gov/entrez/eutils/ efetch.fcgi -query_key 1 -WebEnv MCID_61b2a85614f2cd7033440349 -retstart 0 -retmax 1 -db protein -rettype fasta -retmode text -tool edirect -edirect 16.2 -edirect_os Darwin -email SamihaMahin@Samihas-MacBook-Air.local\n",
      "\u001b[m\u001b[31mEMPTY RESULT\u001b[m\n",
      "\u001b[34mSECOND ATTEMPT\u001b[m\n",
      "curl: (28) Operation timed out after 20002 milliseconds with 0 out of 0 bytes received\n",
      "\u001b[m\u001b[?7h\u001b[4l\u001b>\u001b7\u001b[r\u001b[?1;3;4;6l\u001b8\u001b[31m\u001b[1m\u001b[7m ERROR: \u001b[m\u001b[?7h\u001b[4l\u001b>\u001b7\u001b[r\u001b[?1;3;4;6l\u001b8\u001b[31m\u001b[1m curl command failed ( Thu Dec  9 17:07:57 PST 2021 ) with: 28\u001b[m\u001b[?7h\u001b[4l\u001b>\u001b7\u001b[r\u001b[?1;3;4;6l\u001b8\n",
      "\u001b[34mhttps://eutils.ncbi.nlm.nih.gov/entrez/eutils/efetch.fcgi -d query_key=1&WebEnv=MCID_61b2a85614f2cd7033440349&retstart=0&retmax=1&db=protein&rettype=fasta&retmode=text&tool=edirect&edirect=16.2&edirect_os=Darwin&email=SamihaMahin%40Samihas-MacBook-Air.local\u001b[m\u001b[?7h\u001b[4l\u001b>\u001b7\u001b[r\u001b[?1;3;4;6l\u001b8\n",
      "\u001b[m\u001b[31m\u001b[1m\u001b[7m WARNING: \u001b[m\u001b[31m\u001b[1m FAILURE ( Thu Dec  9 17:07:56 PST 2021 )\u001b[m\n",
      "\u001b[34mnquire -url https://eutils.ncbi.nlm.nih.gov/entrez/eutils/ efetch.fcgi -query_key 1 -WebEnv MCID_61b2a85614f2cd7033440349 -retstart 0 -retmax 1 -db protein -rettype fasta -retmode text -tool edirect -edirect 16.2 -edirect_os Darwin -email SamihaMahin@Samihas-MacBook-Air.local\n",
      "\u001b[m\u001b[31mEMPTY RESULT\u001b[m\n",
      "\u001b[34mLAST ATTEMPT\u001b[m\n"
     ]
    }
   ],
   "source": [
    "!for i in `cat _id.txt`; do esearch -db protein -query \"$i\" | efetch -format fasta > \"$i\".fasta; done"
   ]
  },
  {
   "cell_type": "code",
   "execution_count": 3,
   "metadata": {},
   "outputs": [],
   "source": [
    "!cat *fasta > seq.fa"
   ]
  },
  {
   "cell_type": "code",
   "execution_count": 8,
   "metadata": {},
   "outputs": [],
   "source": [
    "!rm *[1-9]*.fasta"
   ]
  },
  {
   "cell_type": "code",
   "execution_count": 5,
   "metadata": {},
   "outputs": [],
   "source": [
    "!sed \"s/ /_/g\" seq.fa > out_seq.fa"
   ]
  },
  {
   "cell_type": "code",
   "execution_count": null,
   "metadata": {},
   "outputs": [],
   "source": []
  }
 ],
 "metadata": {
  "kernelspec": {
   "display_name": "Python 3",
   "language": "python",
   "name": "python3"
  },
  "language_info": {
   "codemirror_mode": {
    "name": "ipython",
    "version": 3
   },
   "file_extension": ".py",
   "mimetype": "text/x-python",
   "name": "python",
   "nbconvert_exporter": "python",
   "pygments_lexer": "ipython3",
   "version": "3.8.5"
  }
 },
 "nbformat": 4,
 "nbformat_minor": 4
}
