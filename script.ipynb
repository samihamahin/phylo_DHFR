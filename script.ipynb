{
 "cells": [
  {
   "cell_type": "markdown",
   "metadata": {},
   "source": [
    "## Package Installation"
   ]
  },
  {
   "cell_type": "code",
   "execution_count": 1,
   "metadata": {},
   "outputs": [
    {
     "name": "stdout",
     "output_type": "stream",
     "text": [
      "Collecting package metadata (current_repodata.json): done\n",
      "Solving environment: done\n",
      "\n",
      "## Package Plan ##\n",
      "\n",
      "  environment location: /Users/SamihaMahin/opt/anaconda3\n",
      "\n",
      "  added / updated specs:\n",
      "    - biopython\n",
      "    - fasttree\n",
      "    - muscle\n",
      "\n",
      "\n",
      "The following packages will be downloaded:\n",
      "\n",
      "    package                    |            build\n",
      "    ---------------------------|-----------------\n",
      "    fasttree-2.1.10            |       hb4d813b_5         147 KB  bioconda\n",
      "    muscle-3.8.1551            |       h770b8ee_5         167 KB  bioconda\n",
      "    ------------------------------------------------------------\n",
      "                                           Total:         314 KB\n",
      "\n",
      "The following NEW packages will be INSTALLED:\n",
      "\n",
      "  fasttree           bioconda/osx-64::fasttree-2.1.10-hb4d813b_5\n",
      "  muscle             bioconda/osx-64::muscle-3.8.1551-h770b8ee_5\n",
      "\n",
      "\n",
      "\n",
      "Downloading and Extracting Packages\n",
      "muscle-3.8.1551      | 167 KB    | ##################################### | 100% \n",
      "fasttree-2.1.10      | 147 KB    | ##################################### | 100% \n",
      "Preparing transaction: done\n",
      "Verifying transaction: done\n",
      "Executing transaction: done\n"
     ]
    }
   ],
   "source": [
    "!conda config --add channels bioconda\n",
    "!conda install -y biopython muscle fasttree"
   ]
  },
  {
   "cell_type": "markdown",
   "metadata": {},
   "source": [
    "## Data Acquisition"
   ]
  },
  {
   "cell_type": "code",
   "execution_count": null,
   "metadata": {},
   "outputs": [],
   "source": []
  }
 ],
 "metadata": {
  "kernelspec": {
   "display_name": "Python 3",
   "language": "python",
   "name": "python3"
  },
  "language_info": {
   "codemirror_mode": {
    "name": "ipython",
    "version": 3
   },
   "file_extension": ".py",
   "mimetype": "text/x-python",
   "name": "python",
   "nbconvert_exporter": "python",
   "pygments_lexer": "ipython3",
   "version": "3.8.5"
  }
 },
 "nbformat": 4,
 "nbformat_minor": 4
}
